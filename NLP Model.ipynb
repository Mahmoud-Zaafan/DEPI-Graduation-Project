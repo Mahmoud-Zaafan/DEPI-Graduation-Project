{
 "cells": [
  {
   "cell_type": "markdown",
   "metadata": {},
   "source": [
    "<h2>Task Classification Using Machine Learning Algorithms</h2>\n",
    "<hr>"
   ]
  },
  {
   "cell_type": "markdown",
   "metadata": {},
   "source": [
    "<style>\n",
    "    h3{\n",
    "        color: rgb(86, 180, 252);\n",
    "        margin: 0;\n",
    "    }\n",
    "</style>\n",
    "<h3>Importing the libraries<h3>"
   ]
  },
  {
   "cell_type": "code",
   "execution_count": 19,
   "metadata": {},
   "outputs": [],
   "source": [
    "import string\n",
    "import pandas as pd\n",
    "import nltk\n",
    "import os\n",
    "import numpy as np\n",
    "from nltk.corpus import stopwords\n",
    "from nltk.stem import WordNetLemmatizer\n",
    "from nltk.tokenize import word_tokenize\n",
    "from sklearn.model_selection import train_test_split\n",
    "from sklearn.feature_extraction.text import CountVectorizer\n",
    "from sklearn.feature_extraction.text import TfidfVectorizer\n",
    "from sklearn.metrics import accuracy_score, confusion_matrix,  precision_recall_fscore_support\n",
    "from tabulate import tabulate\n",
    "from sklearn.naive_bayes import MultinomialNB\n",
    "from sklearn.ensemble import RandomForestClassifier\n",
    "from sklearn.neighbors import KNeighborsClassifier\n",
    "from sklearn.linear_model import LogisticRegression\n",
    "from sklearn.svm import SVC\n",
    "import matplotlib.pyplot as plt\n",
    "import joblib\n",
    "from sklearn.preprocessing import LabelEncoder\n",
    "\n"
   ]
  },
  {
   "cell_type": "markdown",
   "metadata": {},
   "source": [
    "<style>\n",
    "    h3{\n",
    "        color: rgb(86, 180, 252);\n",
    "        margin: 0;\n",
    "    }\n",
    "</style>\n",
    "<h3>Importing dataset</h3>"
   ]
  },
  {
   "cell_type": "code",
   "execution_count": 2,
   "metadata": {},
   "outputs": [],
   "source": [
    "\n",
    "dataset = pd.read_csv('task_dataset.csv')[['input', 'label']]\n",
    "\n",
    "X = dataset.iloc[:, 0].values.astype('U')\n",
    "y = dataset.iloc[:, 1].values"
   ]
  },
  {
   "cell_type": "markdown",
   "metadata": {},
   "source": [
    "<style>\n",
    "    h3{\n",
    "        color: rgb(86, 180, 252);\n",
    "        margin: 0;\n",
    "    }\n",
    "</style>\n",
    "<h3>Some insights about the dataset </h3>"
   ]
  },
  {
   "cell_type": "markdown",
   "metadata": {},
   "source": [
    "<style>\n",
    "    h3{\n",
    "        color: rgb(86, 180, 252);\n",
    "        margin: 0;\n",
    "    }\n",
    "</style>\n",
    "<h3>Define a function for text preprocessing</h3>"
   ]
  },
  {
   "cell_type": "code",
   "execution_count": 3,
   "metadata": {},
   "outputs": [],
   "source": [
    "def text_preprocessing(text):\n",
    "    # Convert to lowercase\n",
    "    text = text.lower()\n",
    "\n",
    "    # Remove punctuations\n",
    "    text = text.translate(str.maketrans('', '', string.punctuation))\n",
    "\n",
    "    # Word tokenization\n",
    "    text = word_tokenize(text)\n",
    "\n",
    "    # Remove stop words\n",
    "    stop_words_en = stopwords.words('english')\n",
    "    text = [word for word in text if word not in stop_words_en]\n",
    "\n",
    "    # Stemming (we will not use it in the project)\n",
    "    # from nltk.stem import PorterStemmer\n",
    "    # from nltk.stem.isri import ISRIStemmer\n",
    "    # stemmer_en = PorterStemmer()\n",
    "    # stemmer_ar = ISRIStemmer()\n",
    "    # text = [stemmer_en.stem(stemmer_ar.stem(word)) for word in text]\n",
    "\n",
    "    # Lemmatization\n",
    "    lemmatizer = WordNetLemmatizer()\n",
    "    text = [lemmatizer.lemmatize(word, pos='v') for word in text]  # consider all words as verbs\n",
    "    text = [lemmatizer.lemmatize(word, pos='a') for word in text]  # consider all words as adjectives\n",
    "\n",
    "    # pos_tags = nltk.pos_tag(text)\n",
    "    # lemmatizer = WordNetLemmatizer()\n",
    "    # text = [\n",
    "    #     lemmatizer.lemmatize(word, pos=pos[0].lower()) if pos[0].lower()\n",
    "    #     in ['a', 'r', 'n', 'v'] else lemmatizer.lemmatize(word)\n",
    "    #     for word, pos in pos_tags\n",
    "    # ]\n",
    "    \n",
    "    # Concatenate tokens\n",
    "    text = ' '.join(text)\n",
    "\n",
    "    return text"
   ]
  },
  {
   "cell_type": "markdown",
   "metadata": {},
   "source": [
    "<style>\n",
    "    h3{\n",
    "        color: rgb(86, 180, 252);\n",
    "        margin: 0;\n",
    "    }\n",
    "</style>\n",
    "<h3>Make text preprocessing</h3>"
   ]
  },
  {
   "cell_type": "code",
   "execution_count": 4,
   "metadata": {},
   "outputs": [],
   "source": [
    "processed_X = []\n",
    "processed_y = []\n",
    "\n",
    "# Iterate over each sample in X and y\n",
    "for text, label in zip(X, y):\n",
    "    processed_text = text_preprocessing(text)\n",
    "    # Check if the processed text is not already in processed_X\n",
    "    if processed_text not in processed_X:\n",
    "        # If not, append the processed text to processed_X and the corresponding label to processed_y\n",
    "        processed_X.append(processed_text)\n",
    "        processed_y.append(label)\n",
    "\n",
    "# Convert the lists to numpy arrays\n",
    "processed_X = np.array(processed_X)\n",
    "processed_y = np.array(processed_y)"
   ]
  },
  {
   "cell_type": "code",
   "execution_count": 5,
   "metadata": {},
   "outputs": [
    {
     "data": {
      "text/plain": [
       "array(['currency wallet', 'tell currency palm', 'identify money hand',\n",
       "       'whats denomination bill im hold', 'tell type currency hand',\n",
       "       'describe currency note im touch', 'recognize bill im feel',\n",
       "       'money', 'detect currency possession', 'identify banknote im hold',\n",
       "       'whats front', 'describe scene front', 'see surround',\n",
       "       'tell environment front', 'describe whats happen around',\n",
       "       'whats visible position', 'give description current surround',\n",
       "       'object field view', 'whats around', 'far door',\n",
       "       'determine distance door', 'whats depth door',\n",
       "       'measure distance door', 'estimate gap door',\n",
       "       'calculate distance door', 'much space door', 'find distance door',\n",
       "       'whats distance door', 'read text front', 'read', 'translate text',\n",
       "       'say', 'extract text image', 'whats write paper',\n",
       "       'read word document', 'decode text image', 'convert image text',\n",
       "       'translate text english', 'convert english', 'change english',\n",
       "       'translate english', 'whats english version text',\n",
       "       'convert english language', 'provide english translation',\n",
       "       'change language english', 'color car front', 'describe color car',\n",
       "       'whats color vehicle', 'identify color nearby car',\n",
       "       'hue automobile', 'whats shade car', 'tell color car',\n",
       "       'whats tone vehicle', 'describe color nearby car',\n",
       "       'identify color car ahead', 'currency pocket',\n",
       "       'identify bill wallet', 'recognize money im hold',\n",
       "       'tell currency denomination', 'detect currency note im hold',\n",
       "       'whats visible vicinity', 'give rundown surround',\n",
       "       'describe whats front', 'narrate whats around',\n",
       "       'identify object nearby', 'far away near door',\n",
       "       'estimate distance door', 'calculate gap door',\n",
       "       'whats distance near door', 'measure gap door', 'read text paper',\n",
       "       'decipher text', 'convert image readable text',\n",
       "       'translate text image', 'whats write document', 'render english',\n",
       "       'change text english', 'color car nearby',\n",
       "       'describe color vehicle front', 'identify color car close',\n",
       "       'hue car front', 'whats shade car ahead',\n",
       "       'tell color nearby vehicle', 'whats tone car nearby',\n",
       "       'identify color car front', 'describe color vehicle ahead',\n",
       "       'color car close', 'currency note', 'tell currency im hold',\n",
       "       'detect denomination bill', 'whats visible current location',\n",
       "       'describe object nearby', 'narrate whats happen',\n",
       "       'identify items vicinity', 'far away door',\n",
       "       'calculate gap near door', 'whats depth close door',\n",
       "       'read text image', 'extract text picture',\n",
       "       'convert picture readable text', 'whats write image',\n",
       "       'convert english text', 'color car vicinity',\n",
       "       'describe color vehicle nearby', 'identify color car around',\n",
       "       'hue car nearby', 'whats shade vehicle close',\n",
       "       'tell color car nearby', 'whats tone car vicinity',\n",
       "       'identify color car near', 'describe color vehicle close',\n",
       "       'color car proximity', 'denomination bill',\n",
       "       'recognize currency note hand', 'tell type currency im hold',\n",
       "       'identify bill possession', 'whats view front',\n",
       "       'describe things around', 'provide detail description surround',\n",
       "       'identify object field vision',\n",
       "       'whats distance door current position',\n",
       "       'calculate distance near door', 'far close door',\n",
       "       'measure depth door', 'read text document', 'recognize text image',\n",
       "       'convert text image readable form', 'translate content image',\n",
       "       'image say', 'provide english translation text',\n",
       "       'change language text english', 'translate english language',\n",
       "       'convert text english', 'color car behind',\n",
       "       'describe color vehicle behind',\n",
       "       'identify color car situate behind', 'hue car behind',\n",
       "       'whats shade vehicle behind', 'tell color car behind',\n",
       "       'whats tone car behind', 'identify color car rear view',\n",
       "       'color car rear view', 'currency note wallet',\n",
       "       'identify currency im hold', 'tell denomination bill hand',\n",
       "       'detect type currency note im hold',\n",
       "       'whats visible immediate surround', 'describe elements nearby',\n",
       "       'narrate whats around moment',\n",
       "       'identify object immediate environment',\n",
       "       'far away door current location', 'estimate distance near door',\n",
       "       'calculate gap close door', 'whats depth door front',\n",
       "       'measure distance position door', 'read text picture',\n",
       "       'extract text image file', 'translate text within image',\n",
       "       'whats write picture', 'translate text english language',\n",
       "       'provide english translation text snippet',\n",
       "       'change language text english please', 'translate english text',\n",
       "       'convert text english language', 'color car next',\n",
       "       'describe color vehicle beside', 'identify color car adjacent',\n",
       "       'hue car beside', 'whats shade vehicle next',\n",
       "       'tell color car next', 'whats tone car next',\n",
       "       'identify color car beside', 'describe color vehicle next',\n",
       "       'color car beside', 'identify currency pocket',\n",
       "       'tell kind money im hold', 'detect denomination bill possession',\n",
       "       'whats visible current field vision',\n",
       "       'describe object within immediate vicinity',\n",
       "       'narrate whats around right', 'identify items present surround',\n",
       "       'estimate distance close door', 'whats depth door near',\n",
       "       'measure distance near door', 'read text scan document',\n",
       "       'extract text scan image', 'convert scan image text',\n",
       "       'translate text find within scan image',\n",
       "       'whats write scan document',\n",
       "       'provide english translation text excerpt', 'color car park front',\n",
       "       'describe color park vehicle', 'identify color car park nearby',\n",
       "       'hue park car', 'whats shade park vehicle',\n",
       "       'tell color car park nearby', 'whats tone park car',\n",
       "       'color park car nearby', 'recognize currency im hold',\n",
       "       'tell denomination bill', 'detect type currency note possession',\n",
       "       'describe object within vicinity', 'whats depth near door',\n",
       "       'narrate whats surround', 'measure distance current position door',\n",
       "       'describe color car ahead', 'tell color car front',\n",
       "       'whats tone car ahead', 'currency note pocket',\n",
       "       'detect type currency hand', 'identify object around',\n",
       "       'describe surround', 'narrate whats nearby', 'list items vicinity',\n",
       "       'determine depth near door', 'identify color nearby vehicle',\n",
       "       'hue car', 'whats shade vehicle', 'tell color nearby car',\n",
       "       'whats tone car', 'describe color vehicle', 'color nearby car',\n",
       "       'read text menu', 'sign say', 'extract ingredients recipe',\n",
       "       'transcribe handwritten note', 'convert document text',\n",
       "       'translate instructions spanish',\n",
       "       'give french translation article', 'turn email german',\n",
       "       'language text write', 'translate text prefer language',\n",
       "       'color chair im sit', 'identify color clothe person',\n",
       "       'tell color fruit bowl', 'describe color water glass',\n",
       "       'color carpet floor', 'value coin pocket', 'kind money',\n",
       "       'tell denomination coin', 'identify currency im carry',\n",
       "       'describe coin pocket', 'estimate distance tree',\n",
       "       'calculate distance end hallway', 'measure distance cat',\n",
       "       'far away bus stop'], dtype='<U41')"
      ]
     },
     "execution_count": 5,
     "metadata": {},
     "output_type": "execute_result"
    }
   ],
   "source": [
    "processed_X"
   ]
  },
  {
   "cell_type": "code",
   "execution_count": 6,
   "metadata": {},
   "outputs": [
    {
     "name": "stdout",
     "output_type": "stream",
     "text": [
      "Columns: input, label\n",
      "\n",
      "+----+--------------------------------------------------+----------------------+\n",
      "|    | input                                            | label                |\n",
      "|----+--------------------------------------------------+----------------------|\n",
      "|  0 | What currency is in my wallet?                   | currency recognition |\n",
      "|  1 | Can you tell me the currency in my palm?         | currency recognition |\n",
      "|  2 | Identify the money in my hand.                   | currency recognition |\n",
      "|  3 | What's the denomination of the bill I'm holding? | currency recognition |\n",
      "|  4 | Tell me the type of currency in my hand.         | currency recognition |\n",
      "+----+--------------------------------------------------+----------------------+\n"
     ]
    }
   ],
   "source": [
    "# Show the column names\n",
    "print(f\"Columns: {', '.join(dataset.columns)}\", end='\\n\\n')\n",
    "\n",
    "# Print the first 5 samples as a table\n",
    "print(tabulate(dataset.head(), headers='keys', tablefmt='psql'))\n"
   ]
  },
  {
   "cell_type": "code",
   "execution_count": 20,
   "metadata": {},
   "outputs": [],
   "source": [
    "label_encoder = LabelEncoder()\n",
    "encoded_y_train = label_encoder.fit_transform(processed_y)\n",
    "\n"
   ]
  },
  {
   "cell_type": "code",
   "execution_count": 40,
   "metadata": {},
   "outputs": [
    {
     "name": "stdout",
     "output_type": "stream",
     "text": [
      "{'color recognition': 0, 'currency recognition': 1, 'depth estimation': 2, 'ocr': 3, 'scene description': 4, 'translation': 5}\n"
     ]
    }
   ],
   "source": [
    "# Get the mapping of original labels to encoded values\n",
    "label_mapping = {label: encoded_label for label, encoded_label in zip(label_encoder.classes_, label_encoder.transform(label_encoder.classes_))}\n",
    "\n",
    "# Now label_mapping contains the mapping of original labels to their encoded values\n",
    "print(label_mapping)"
   ]
  },
  {
   "cell_type": "code",
   "execution_count": 41,
   "metadata": {},
   "outputs": [
    {
     "name": "stdout",
     "output_type": "stream",
     "text": [
      "Original Labels: ['color recognition' 'currency recognition' 'depth estimation' 'ocr'\n",
      " 'scene description' 'translation']\n",
      "Encoded Values: [0 1 2 3 4 5]\n"
     ]
    }
   ],
   "source": [
    "# Get the original labels\n",
    "original_labels = label_encoder.classes_\n",
    "\n",
    "# Get the corresponding encoded values\n",
    "encoded_values = label_encoder.transform(original_labels)\n",
    "\n",
    "# Now original_labels contains the original labels and encoded_values contains their corresponding encoded values\n",
    "print(\"Original Labels:\", original_labels)\n",
    "print(\"Encoded Values:\", encoded_values)"
   ]
  },
  {
   "cell_type": "markdown",
   "metadata": {},
   "source": [
    "<style>\n",
    "    h3{\n",
    "        color: rgb(86, 180, 252);\n",
    "        margin: 0;\n",
    "    }\n",
    "</style>\n",
    "<h3>Create a vectorizer</h3>"
   ]
  },
  {
   "cell_type": "code",
   "execution_count": 33,
   "metadata": {},
   "outputs": [],
   "source": [
    "if not os.path.exists('models'):\n",
    "    os.makedirs('models')\n",
    "\n",
    "vectorizer = CountVectorizer(max_features=10000)\n",
    "vectorizer.fit(processed_X)\n",
    "joblib.dump(vectorizer, 'models/vectorizer.joblib')\n",
    "\n",
    "# Transform text to vectors\n",
    "processed_X = vectorizer.transform(processed_X).toarray()\n",
    "\n",
    "# vectorizer = CountVectorizer(ngram_range=(2),max_features=10000)\n",
    "# vectorizer.fit(processed_X)\n",
    "# joblib.dump(vectorizer, 'models/vectorizer.joblib')\n",
    "\n",
    "# # Transform text to vectors\n",
    "# X = vectorizer.transform(processed_X).toarray()\n",
    "\n",
    "# vectorizer = TfidfVectorizer()\n",
    "# vectorizer.fit(processed_X)\n",
    "# joblib.dump(vectorizer, 'models/vectorizer.joblib')\n",
    "\n",
    "# # Transform text to vectors\n",
    "# X = vectorizer.transform(processed_X).toarray()"
   ]
  },
  {
   "cell_type": "markdown",
   "metadata": {},
   "source": [
    "<style>\n",
    "    h3{\n",
    "        color: rgb(86, 180, 252);\n",
    "        margin: 0;\n",
    "    }\n",
    "</style>\n",
    "<h3>Prepare train and test data</h3>"
   ]
  },
  {
   "cell_type": "code",
   "execution_count": 34,
   "metadata": {},
   "outputs": [],
   "source": [
    "# Split the data into training and testing sets\n",
    "X_train, X_test, y_train, y_test = train_test_split(processed_X, encoded_y_train, test_size=0.2, random_state=42)"
   ]
  },
  {
   "cell_type": "code",
   "execution_count": 35,
   "metadata": {},
   "outputs": [],
   "source": [
    "# Reshape X_train and X_test if they are 1-dimensional arrays\n",
    "if len(X_train.shape) == 1:\n",
    "    X_train = X_train.reshape(-1, 1)\n",
    "if len(X_test.shape) == 1:\n",
    "    X_test = X_test.reshape(-1, 1)"
   ]
  },
  {
   "cell_type": "code",
   "execution_count": 37,
   "metadata": {},
   "outputs": [
    {
     "data": {
      "text/plain": [
       "array([[0, 0, 0, ..., 0, 0, 1],\n",
       "       [0, 0, 0, ..., 0, 0, 0],\n",
       "       [0, 0, 0, ..., 0, 0, 0],\n",
       "       ...,\n",
       "       [0, 0, 0, ..., 0, 0, 0],\n",
       "       [0, 0, 0, ..., 0, 0, 0],\n",
       "       [0, 0, 0, ..., 0, 0, 0]], dtype=int64)"
      ]
     },
     "execution_count": 37,
     "metadata": {},
     "output_type": "execute_result"
    }
   ],
   "source": [
    "X_test"
   ]
  },
  {
   "cell_type": "markdown",
   "metadata": {},
   "source": [
    "<style>\n",
    "    h3{\n",
    "        color: rgb(255, 102, 0);\n",
    "        margin: 0;\n",
    "    }\n",
    "</style>\n",
    "<h3>First model: Naive Bayes (MultinomialNB)</h3>"
   ]
  },
  {
   "cell_type": "code",
   "execution_count": 38,
   "metadata": {},
   "outputs": [
    {
     "data": {
      "text/html": [
       "<style>#sk-container-id-1 {color: black;}#sk-container-id-1 pre{padding: 0;}#sk-container-id-1 div.sk-toggleable {background-color: white;}#sk-container-id-1 label.sk-toggleable__label {cursor: pointer;display: block;width: 100%;margin-bottom: 0;padding: 0.3em;box-sizing: border-box;text-align: center;}#sk-container-id-1 label.sk-toggleable__label-arrow:before {content: \"▸\";float: left;margin-right: 0.25em;color: #696969;}#sk-container-id-1 label.sk-toggleable__label-arrow:hover:before {color: black;}#sk-container-id-1 div.sk-estimator:hover label.sk-toggleable__label-arrow:before {color: black;}#sk-container-id-1 div.sk-toggleable__content {max-height: 0;max-width: 0;overflow: hidden;text-align: left;background-color: #f0f8ff;}#sk-container-id-1 div.sk-toggleable__content pre {margin: 0.2em;color: black;border-radius: 0.25em;background-color: #f0f8ff;}#sk-container-id-1 input.sk-toggleable__control:checked~div.sk-toggleable__content {max-height: 200px;max-width: 100%;overflow: auto;}#sk-container-id-1 input.sk-toggleable__control:checked~label.sk-toggleable__label-arrow:before {content: \"▾\";}#sk-container-id-1 div.sk-estimator input.sk-toggleable__control:checked~label.sk-toggleable__label {background-color: #d4ebff;}#sk-container-id-1 div.sk-label input.sk-toggleable__control:checked~label.sk-toggleable__label {background-color: #d4ebff;}#sk-container-id-1 input.sk-hidden--visually {border: 0;clip: rect(1px 1px 1px 1px);clip: rect(1px, 1px, 1px, 1px);height: 1px;margin: -1px;overflow: hidden;padding: 0;position: absolute;width: 1px;}#sk-container-id-1 div.sk-estimator {font-family: monospace;background-color: #f0f8ff;border: 1px dotted black;border-radius: 0.25em;box-sizing: border-box;margin-bottom: 0.5em;}#sk-container-id-1 div.sk-estimator:hover {background-color: #d4ebff;}#sk-container-id-1 div.sk-parallel-item::after {content: \"\";width: 100%;border-bottom: 1px solid gray;flex-grow: 1;}#sk-container-id-1 div.sk-label:hover label.sk-toggleable__label {background-color: #d4ebff;}#sk-container-id-1 div.sk-serial::before {content: \"\";position: absolute;border-left: 1px solid gray;box-sizing: border-box;top: 0;bottom: 0;left: 50%;z-index: 0;}#sk-container-id-1 div.sk-serial {display: flex;flex-direction: column;align-items: center;background-color: white;padding-right: 0.2em;padding-left: 0.2em;position: relative;}#sk-container-id-1 div.sk-item {position: relative;z-index: 1;}#sk-container-id-1 div.sk-parallel {display: flex;align-items: stretch;justify-content: center;background-color: white;position: relative;}#sk-container-id-1 div.sk-item::before, #sk-container-id-1 div.sk-parallel-item::before {content: \"\";position: absolute;border-left: 1px solid gray;box-sizing: border-box;top: 0;bottom: 0;left: 50%;z-index: -1;}#sk-container-id-1 div.sk-parallel-item {display: flex;flex-direction: column;z-index: 1;position: relative;background-color: white;}#sk-container-id-1 div.sk-parallel-item:first-child::after {align-self: flex-end;width: 50%;}#sk-container-id-1 div.sk-parallel-item:last-child::after {align-self: flex-start;width: 50%;}#sk-container-id-1 div.sk-parallel-item:only-child::after {width: 0;}#sk-container-id-1 div.sk-dashed-wrapped {border: 1px dashed gray;margin: 0 0.4em 0.5em 0.4em;box-sizing: border-box;padding-bottom: 0.4em;background-color: white;}#sk-container-id-1 div.sk-label label {font-family: monospace;font-weight: bold;display: inline-block;line-height: 1.2em;}#sk-container-id-1 div.sk-label-container {text-align: center;}#sk-container-id-1 div.sk-container {/* jupyter's `normalize.less` sets `[hidden] { display: none; }` but bootstrap.min.css set `[hidden] { display: none !important; }` so we also need the `!important` here to be able to override the default hidden behavior on the sphinx rendered scikit-learn.org. See: https://github.com/scikit-learn/scikit-learn/issues/21755 */display: inline-block !important;position: relative;}#sk-container-id-1 div.sk-text-repr-fallback {display: none;}</style><div id=\"sk-container-id-1\" class=\"sk-top-container\"><div class=\"sk-text-repr-fallback\"><pre>MultinomialNB()</pre><b>In a Jupyter environment, please rerun this cell to show the HTML representation or trust the notebook. <br />On GitHub, the HTML representation is unable to render, please try loading this page with nbviewer.org.</b></div><div class=\"sk-container\" hidden><div class=\"sk-item\"><div class=\"sk-estimator sk-toggleable\"><input class=\"sk-toggleable__control sk-hidden--visually\" id=\"sk-estimator-id-1\" type=\"checkbox\" checked><label for=\"sk-estimator-id-1\" class=\"sk-toggleable__label sk-toggleable__label-arrow\">MultinomialNB</label><div class=\"sk-toggleable__content\"><pre>MultinomialNB()</pre></div></div></div></div></div>"
      ],
      "text/plain": [
       "MultinomialNB()"
      ]
     },
     "execution_count": 38,
     "metadata": {},
     "output_type": "execute_result"
    }
   ],
   "source": [
    "# Train the model\n",
    "NB_model = MultinomialNB()\n",
    "NB_model.fit(X_train, y_train)"
   ]
  },
  {
   "cell_type": "markdown",
   "metadata": {},
   "source": [
    "<style>\n",
    "    h3{\n",
    "        color: rgb(86, 180, 252);\n",
    "        margin: 0;\n",
    "    }\n",
    "</style>\n",
    "<h3>Test the model</h3>"
   ]
  },
  {
   "cell_type": "code",
   "execution_count": 42,
   "metadata": {},
   "outputs": [
    {
     "name": "stdout",
     "output_type": "stream",
     "text": [
      "Accuracy: 0.98\n",
      "Confusion matrix:\n",
      "                      color recognition  currency recognition  \\\n",
      "color recognition                    13                     0   \n",
      "currency recognition                  0                     7   \n",
      "depth estimation                      0                     0   \n",
      "ocr                                   0                     0   \n",
      "scene description                     1                     0   \n",
      "translation                           0                     0   \n",
      "\n",
      "                      depth estimation  ocr  scene description  translation  \n",
      "color recognition                    0    0                  0            0  \n",
      "currency recognition                 0    0                  0            0  \n",
      "depth estimation                    13    0                  0            0  \n",
      "ocr                                  0    4                  0            0  \n",
      "scene description                    0    0                  9            0  \n",
      "translation                          0    0                  0            3  \n",
      "Precision: [0.92857143 1.         1.         1.         1.         1.        ]\n",
      "Recall: [1.  1.  1.  1.  0.9 1. ]\n",
      "F1-score: [0.96296296 1.         1.         1.         0.94736842 1.        ]\n"
     ]
    }
   ],
   "source": [
    "# Test the model\n",
    "NB_y_pred = NB_model.predict(X_test)\n",
    "\n",
    "# Evaluate the accuracy of the classifier\n",
    "NB_accuracy = accuracy_score(y_test, NB_y_pred)\n",
    "print('Accuracy:', NB_accuracy)\n",
    "\n",
    "# Print the confusion matrix of the classifier\n",
    "conf_matrix = confusion_matrix(y_test, NB_y_pred)\n",
    "print('Confusion matrix:')\n",
    "index = original_labels\n",
    "print(pd.DataFrame(conf_matrix,index=index,columns=index))\n",
    "\n",
    "# Calculate precision, recall, and F1-score of the classifier\n",
    "precision, recall, f1, _ = precision_recall_fscore_support(y_test, NB_y_pred)\n",
    "print('Precision:', precision)\n",
    "print('Recall:', recall)\n",
    "print('F1-score:', f1)"
   ]
  },
  {
   "cell_type": "markdown",
   "metadata": {},
   "source": [
    "<style>\n",
    "    h3{\n",
    "        color: rgb(255, 102, 0);\n",
    "        margin: 0;\n",
    "    }\n",
    "</style>\n",
    "<h3>Second model: Random Forest</h3>"
   ]
  },
  {
   "cell_type": "code",
   "execution_count": 43,
   "metadata": {},
   "outputs": [
    {
     "data": {
      "text/html": [
       "<style>#sk-container-id-2 {color: black;}#sk-container-id-2 pre{padding: 0;}#sk-container-id-2 div.sk-toggleable {background-color: white;}#sk-container-id-2 label.sk-toggleable__label {cursor: pointer;display: block;width: 100%;margin-bottom: 0;padding: 0.3em;box-sizing: border-box;text-align: center;}#sk-container-id-2 label.sk-toggleable__label-arrow:before {content: \"▸\";float: left;margin-right: 0.25em;color: #696969;}#sk-container-id-2 label.sk-toggleable__label-arrow:hover:before {color: black;}#sk-container-id-2 div.sk-estimator:hover label.sk-toggleable__label-arrow:before {color: black;}#sk-container-id-2 div.sk-toggleable__content {max-height: 0;max-width: 0;overflow: hidden;text-align: left;background-color: #f0f8ff;}#sk-container-id-2 div.sk-toggleable__content pre {margin: 0.2em;color: black;border-radius: 0.25em;background-color: #f0f8ff;}#sk-container-id-2 input.sk-toggleable__control:checked~div.sk-toggleable__content {max-height: 200px;max-width: 100%;overflow: auto;}#sk-container-id-2 input.sk-toggleable__control:checked~label.sk-toggleable__label-arrow:before {content: \"▾\";}#sk-container-id-2 div.sk-estimator input.sk-toggleable__control:checked~label.sk-toggleable__label {background-color: #d4ebff;}#sk-container-id-2 div.sk-label input.sk-toggleable__control:checked~label.sk-toggleable__label {background-color: #d4ebff;}#sk-container-id-2 input.sk-hidden--visually {border: 0;clip: rect(1px 1px 1px 1px);clip: rect(1px, 1px, 1px, 1px);height: 1px;margin: -1px;overflow: hidden;padding: 0;position: absolute;width: 1px;}#sk-container-id-2 div.sk-estimator {font-family: monospace;background-color: #f0f8ff;border: 1px dotted black;border-radius: 0.25em;box-sizing: border-box;margin-bottom: 0.5em;}#sk-container-id-2 div.sk-estimator:hover {background-color: #d4ebff;}#sk-container-id-2 div.sk-parallel-item::after {content: \"\";width: 100%;border-bottom: 1px solid gray;flex-grow: 1;}#sk-container-id-2 div.sk-label:hover label.sk-toggleable__label {background-color: #d4ebff;}#sk-container-id-2 div.sk-serial::before {content: \"\";position: absolute;border-left: 1px solid gray;box-sizing: border-box;top: 0;bottom: 0;left: 50%;z-index: 0;}#sk-container-id-2 div.sk-serial {display: flex;flex-direction: column;align-items: center;background-color: white;padding-right: 0.2em;padding-left: 0.2em;position: relative;}#sk-container-id-2 div.sk-item {position: relative;z-index: 1;}#sk-container-id-2 div.sk-parallel {display: flex;align-items: stretch;justify-content: center;background-color: white;position: relative;}#sk-container-id-2 div.sk-item::before, #sk-container-id-2 div.sk-parallel-item::before {content: \"\";position: absolute;border-left: 1px solid gray;box-sizing: border-box;top: 0;bottom: 0;left: 50%;z-index: -1;}#sk-container-id-2 div.sk-parallel-item {display: flex;flex-direction: column;z-index: 1;position: relative;background-color: white;}#sk-container-id-2 div.sk-parallel-item:first-child::after {align-self: flex-end;width: 50%;}#sk-container-id-2 div.sk-parallel-item:last-child::after {align-self: flex-start;width: 50%;}#sk-container-id-2 div.sk-parallel-item:only-child::after {width: 0;}#sk-container-id-2 div.sk-dashed-wrapped {border: 1px dashed gray;margin: 0 0.4em 0.5em 0.4em;box-sizing: border-box;padding-bottom: 0.4em;background-color: white;}#sk-container-id-2 div.sk-label label {font-family: monospace;font-weight: bold;display: inline-block;line-height: 1.2em;}#sk-container-id-2 div.sk-label-container {text-align: center;}#sk-container-id-2 div.sk-container {/* jupyter's `normalize.less` sets `[hidden] { display: none; }` but bootstrap.min.css set `[hidden] { display: none !important; }` so we also need the `!important` here to be able to override the default hidden behavior on the sphinx rendered scikit-learn.org. See: https://github.com/scikit-learn/scikit-learn/issues/21755 */display: inline-block !important;position: relative;}#sk-container-id-2 div.sk-text-repr-fallback {display: none;}</style><div id=\"sk-container-id-2\" class=\"sk-top-container\"><div class=\"sk-text-repr-fallback\"><pre>RandomForestClassifier(max_depth=10, random_state=42)</pre><b>In a Jupyter environment, please rerun this cell to show the HTML representation or trust the notebook. <br />On GitHub, the HTML representation is unable to render, please try loading this page with nbviewer.org.</b></div><div class=\"sk-container\" hidden><div class=\"sk-item\"><div class=\"sk-estimator sk-toggleable\"><input class=\"sk-toggleable__control sk-hidden--visually\" id=\"sk-estimator-id-2\" type=\"checkbox\" checked><label for=\"sk-estimator-id-2\" class=\"sk-toggleable__label sk-toggleable__label-arrow\">RandomForestClassifier</label><div class=\"sk-toggleable__content\"><pre>RandomForestClassifier(max_depth=10, random_state=42)</pre></div></div></div></div></div>"
      ],
      "text/plain": [
       "RandomForestClassifier(max_depth=10, random_state=42)"
      ]
     },
     "execution_count": 43,
     "metadata": {},
     "output_type": "execute_result"
    }
   ],
   "source": [
    "# Train the model\n",
    "RF_model = RandomForestClassifier(n_estimators=100,\n",
    "                                  max_depth=10,\n",
    "                                  random_state=42)\n",
    "RF_model.fit(X_train, y_train)"
   ]
  },
  {
   "cell_type": "markdown",
   "metadata": {},
   "source": [
    "<style>\n",
    "    h3{\n",
    "        color: rgb(86, 180, 252);\n",
    "        margin: 0;\n",
    "    }\n",
    "</style>\n",
    "<h3>Test the model</h3>"
   ]
  },
  {
   "cell_type": "code",
   "execution_count": 45,
   "metadata": {},
   "outputs": [
    {
     "name": "stdout",
     "output_type": "stream",
     "text": [
      "Accuracy: 0.96\n",
      "Confusion matrix:\n",
      "                      color recognition  currency recognition  \\\n",
      "color recognition                    13                     0   \n",
      "currency recognition                  0                     6   \n",
      "depth estimation                      0                     0   \n",
      "ocr                                   0                     0   \n",
      "scene description                     0                     0   \n",
      "translation                           0                     0   \n",
      "\n",
      "                      depth estimation  ocr  scene description  translation  \n",
      "color recognition                    0    0                  0            0  \n",
      "currency recognition                 0    0                  1            0  \n",
      "depth estimation                    13    0                  0            0  \n",
      "ocr                                  0    4                  0            0  \n",
      "scene description                    0    0                 10            0  \n",
      "translation                          0    1                  0            2  \n",
      "Precision: [1.         1.         1.         0.8        0.90909091 1.        ]\n",
      "Recall: [1.         0.85714286 1.         1.         1.         0.66666667]\n",
      "F1-score: [1.         0.92307692 1.         0.88888889 0.95238095 0.8       ]\n"
     ]
    }
   ],
   "source": [
    "# Test the model\n",
    "RF_y_pred = RF_model.predict(X_test)\n",
    "\n",
    "# Evaluate the accuracy of the classifier\n",
    "RF_accuracy = accuracy_score(y_test, RF_y_pred)\n",
    "print('Accuracy:', RF_accuracy)\n",
    "\n",
    "# Print the confusion matrix of the classifier\n",
    "conf_matrix = confusion_matrix(y_test, RF_y_pred)\n",
    "print('Confusion matrix:')\n",
    "index = original_labels\n",
    "print(pd.DataFrame(conf_matrix,index=index,columns=index))\n",
    "\n",
    "# Calculate precision, recall, and F1-score of the classifier\n",
    "precision, recall, f1, _ = precision_recall_fscore_support(y_test, RF_y_pred)\n",
    "print('Precision:', precision)\n",
    "print('Recall:', recall)\n",
    "print('F1-score:', f1)"
   ]
  },
  {
   "cell_type": "markdown",
   "metadata": {},
   "source": [
    "<style>\n",
    "    h3{\n",
    "        color: rgb(255, 102, 0);\n",
    "        margin: 0;\n",
    "    }\n",
    "</style>\n",
    "<h3>Third model: K-Nearest Neighbors</h3>"
   ]
  },
  {
   "cell_type": "code",
   "execution_count": 46,
   "metadata": {},
   "outputs": [
    {
     "data": {
      "text/html": [
       "<style>#sk-container-id-3 {color: black;}#sk-container-id-3 pre{padding: 0;}#sk-container-id-3 div.sk-toggleable {background-color: white;}#sk-container-id-3 label.sk-toggleable__label {cursor: pointer;display: block;width: 100%;margin-bottom: 0;padding: 0.3em;box-sizing: border-box;text-align: center;}#sk-container-id-3 label.sk-toggleable__label-arrow:before {content: \"▸\";float: left;margin-right: 0.25em;color: #696969;}#sk-container-id-3 label.sk-toggleable__label-arrow:hover:before {color: black;}#sk-container-id-3 div.sk-estimator:hover label.sk-toggleable__label-arrow:before {color: black;}#sk-container-id-3 div.sk-toggleable__content {max-height: 0;max-width: 0;overflow: hidden;text-align: left;background-color: #f0f8ff;}#sk-container-id-3 div.sk-toggleable__content pre {margin: 0.2em;color: black;border-radius: 0.25em;background-color: #f0f8ff;}#sk-container-id-3 input.sk-toggleable__control:checked~div.sk-toggleable__content {max-height: 200px;max-width: 100%;overflow: auto;}#sk-container-id-3 input.sk-toggleable__control:checked~label.sk-toggleable__label-arrow:before {content: \"▾\";}#sk-container-id-3 div.sk-estimator input.sk-toggleable__control:checked~label.sk-toggleable__label {background-color: #d4ebff;}#sk-container-id-3 div.sk-label input.sk-toggleable__control:checked~label.sk-toggleable__label {background-color: #d4ebff;}#sk-container-id-3 input.sk-hidden--visually {border: 0;clip: rect(1px 1px 1px 1px);clip: rect(1px, 1px, 1px, 1px);height: 1px;margin: -1px;overflow: hidden;padding: 0;position: absolute;width: 1px;}#sk-container-id-3 div.sk-estimator {font-family: monospace;background-color: #f0f8ff;border: 1px dotted black;border-radius: 0.25em;box-sizing: border-box;margin-bottom: 0.5em;}#sk-container-id-3 div.sk-estimator:hover {background-color: #d4ebff;}#sk-container-id-3 div.sk-parallel-item::after {content: \"\";width: 100%;border-bottom: 1px solid gray;flex-grow: 1;}#sk-container-id-3 div.sk-label:hover label.sk-toggleable__label {background-color: #d4ebff;}#sk-container-id-3 div.sk-serial::before {content: \"\";position: absolute;border-left: 1px solid gray;box-sizing: border-box;top: 0;bottom: 0;left: 50%;z-index: 0;}#sk-container-id-3 div.sk-serial {display: flex;flex-direction: column;align-items: center;background-color: white;padding-right: 0.2em;padding-left: 0.2em;position: relative;}#sk-container-id-3 div.sk-item {position: relative;z-index: 1;}#sk-container-id-3 div.sk-parallel {display: flex;align-items: stretch;justify-content: center;background-color: white;position: relative;}#sk-container-id-3 div.sk-item::before, #sk-container-id-3 div.sk-parallel-item::before {content: \"\";position: absolute;border-left: 1px solid gray;box-sizing: border-box;top: 0;bottom: 0;left: 50%;z-index: -1;}#sk-container-id-3 div.sk-parallel-item {display: flex;flex-direction: column;z-index: 1;position: relative;background-color: white;}#sk-container-id-3 div.sk-parallel-item:first-child::after {align-self: flex-end;width: 50%;}#sk-container-id-3 div.sk-parallel-item:last-child::after {align-self: flex-start;width: 50%;}#sk-container-id-3 div.sk-parallel-item:only-child::after {width: 0;}#sk-container-id-3 div.sk-dashed-wrapped {border: 1px dashed gray;margin: 0 0.4em 0.5em 0.4em;box-sizing: border-box;padding-bottom: 0.4em;background-color: white;}#sk-container-id-3 div.sk-label label {font-family: monospace;font-weight: bold;display: inline-block;line-height: 1.2em;}#sk-container-id-3 div.sk-label-container {text-align: center;}#sk-container-id-3 div.sk-container {/* jupyter's `normalize.less` sets `[hidden] { display: none; }` but bootstrap.min.css set `[hidden] { display: none !important; }` so we also need the `!important` here to be able to override the default hidden behavior on the sphinx rendered scikit-learn.org. See: https://github.com/scikit-learn/scikit-learn/issues/21755 */display: inline-block !important;position: relative;}#sk-container-id-3 div.sk-text-repr-fallback {display: none;}</style><div id=\"sk-container-id-3\" class=\"sk-top-container\"><div class=\"sk-text-repr-fallback\"><pre>KNeighborsClassifier()</pre><b>In a Jupyter environment, please rerun this cell to show the HTML representation or trust the notebook. <br />On GitHub, the HTML representation is unable to render, please try loading this page with nbviewer.org.</b></div><div class=\"sk-container\" hidden><div class=\"sk-item\"><div class=\"sk-estimator sk-toggleable\"><input class=\"sk-toggleable__control sk-hidden--visually\" id=\"sk-estimator-id-3\" type=\"checkbox\" checked><label for=\"sk-estimator-id-3\" class=\"sk-toggleable__label sk-toggleable__label-arrow\">KNeighborsClassifier</label><div class=\"sk-toggleable__content\"><pre>KNeighborsClassifier()</pre></div></div></div></div></div>"
      ],
      "text/plain": [
       "KNeighborsClassifier()"
      ]
     },
     "execution_count": 46,
     "metadata": {},
     "output_type": "execute_result"
    }
   ],
   "source": [
    "# Train the model\n",
    "KNN_model = KNeighborsClassifier(n_neighbors=5)\n",
    "KNN_model.fit(X_train, y_train)"
   ]
  },
  {
   "cell_type": "markdown",
   "metadata": {},
   "source": [
    "<style>\n",
    "    h3{\n",
    "        color: rgb(86, 180, 252);\n",
    "        margin: 0;\n",
    "    }\n",
    "</style>\n",
    "<h3>Test the model</h3>"
   ]
  },
  {
   "cell_type": "code",
   "execution_count": 47,
   "metadata": {},
   "outputs": [
    {
     "name": "stdout",
     "output_type": "stream",
     "text": [
      "Accuracy: 0.94\n",
      "Confusion matrix:\n",
      "                      color recognition  currency recognition  \\\n",
      "color recognition                    13                     0   \n",
      "currency recognition                  0                     7   \n",
      "depth estimation                      0                     0   \n",
      "ocr                                   0                     0   \n",
      "scene description                     1                     0   \n",
      "translation                           0                     0   \n",
      "\n",
      "                      depth estimation  ocr  scene description  translation  \n",
      "color recognition                    0    0                  0            0  \n",
      "currency recognition                 0    0                  0            0  \n",
      "depth estimation                    13    0                  0            0  \n",
      "ocr                                  0    3                  0            1  \n",
      "scene description                    0    1                  8            0  \n",
      "translation                          0    0                  0            3  \n",
      "Precision: [0.92857143 1.         1.         0.75       1.         0.75      ]\n",
      "Recall: [1.   1.   1.   0.75 0.8  1.  ]\n",
      "F1-score: [0.96296296 1.         1.         0.75       0.88888889 0.85714286]\n"
     ]
    }
   ],
   "source": [
    "# Test the model\n",
    "KNN_y_pred = KNN_model.predict(X_test)\n",
    "\n",
    "# Evaluate the accuracy of the classifier\n",
    "KNN_accuracy = accuracy_score(y_test, KNN_y_pred)\n",
    "print('Accuracy:', KNN_accuracy)\n",
    "\n",
    "# Print the confusion matrix of the classifier\n",
    "conf_matrix = confusion_matrix(y_test, KNN_y_pred)\n",
    "print('Confusion matrix:')\n",
    "index = original_labels\n",
    "print(pd.DataFrame(conf_matrix,index=index,columns=index))\n",
    "\n",
    "# Calculate precision, recall, and F1-score of the classifier\n",
    "precision, recall, f1, _ = precision_recall_fscore_support(y_test, KNN_y_pred)\n",
    "print('Precision:', precision)\n",
    "print('Recall:', recall)\n",
    "print('F1-score:', f1)"
   ]
  },
  {
   "cell_type": "markdown",
   "metadata": {},
   "source": [
    "<style>\n",
    "    h3{\n",
    "        color: rgb(255, 102, 0);\n",
    "        margin: 0;\n",
    "    }\n",
    "</style>\n",
    "<h3>Fourth model: Support Vector Machine</h3>"
   ]
  },
  {
   "cell_type": "code",
   "execution_count": 48,
   "metadata": {},
   "outputs": [
    {
     "data": {
      "text/html": [
       "<style>#sk-container-id-4 {color: black;}#sk-container-id-4 pre{padding: 0;}#sk-container-id-4 div.sk-toggleable {background-color: white;}#sk-container-id-4 label.sk-toggleable__label {cursor: pointer;display: block;width: 100%;margin-bottom: 0;padding: 0.3em;box-sizing: border-box;text-align: center;}#sk-container-id-4 label.sk-toggleable__label-arrow:before {content: \"▸\";float: left;margin-right: 0.25em;color: #696969;}#sk-container-id-4 label.sk-toggleable__label-arrow:hover:before {color: black;}#sk-container-id-4 div.sk-estimator:hover label.sk-toggleable__label-arrow:before {color: black;}#sk-container-id-4 div.sk-toggleable__content {max-height: 0;max-width: 0;overflow: hidden;text-align: left;background-color: #f0f8ff;}#sk-container-id-4 div.sk-toggleable__content pre {margin: 0.2em;color: black;border-radius: 0.25em;background-color: #f0f8ff;}#sk-container-id-4 input.sk-toggleable__control:checked~div.sk-toggleable__content {max-height: 200px;max-width: 100%;overflow: auto;}#sk-container-id-4 input.sk-toggleable__control:checked~label.sk-toggleable__label-arrow:before {content: \"▾\";}#sk-container-id-4 div.sk-estimator input.sk-toggleable__control:checked~label.sk-toggleable__label {background-color: #d4ebff;}#sk-container-id-4 div.sk-label input.sk-toggleable__control:checked~label.sk-toggleable__label {background-color: #d4ebff;}#sk-container-id-4 input.sk-hidden--visually {border: 0;clip: rect(1px 1px 1px 1px);clip: rect(1px, 1px, 1px, 1px);height: 1px;margin: -1px;overflow: hidden;padding: 0;position: absolute;width: 1px;}#sk-container-id-4 div.sk-estimator {font-family: monospace;background-color: #f0f8ff;border: 1px dotted black;border-radius: 0.25em;box-sizing: border-box;margin-bottom: 0.5em;}#sk-container-id-4 div.sk-estimator:hover {background-color: #d4ebff;}#sk-container-id-4 div.sk-parallel-item::after {content: \"\";width: 100%;border-bottom: 1px solid gray;flex-grow: 1;}#sk-container-id-4 div.sk-label:hover label.sk-toggleable__label {background-color: #d4ebff;}#sk-container-id-4 div.sk-serial::before {content: \"\";position: absolute;border-left: 1px solid gray;box-sizing: border-box;top: 0;bottom: 0;left: 50%;z-index: 0;}#sk-container-id-4 div.sk-serial {display: flex;flex-direction: column;align-items: center;background-color: white;padding-right: 0.2em;padding-left: 0.2em;position: relative;}#sk-container-id-4 div.sk-item {position: relative;z-index: 1;}#sk-container-id-4 div.sk-parallel {display: flex;align-items: stretch;justify-content: center;background-color: white;position: relative;}#sk-container-id-4 div.sk-item::before, #sk-container-id-4 div.sk-parallel-item::before {content: \"\";position: absolute;border-left: 1px solid gray;box-sizing: border-box;top: 0;bottom: 0;left: 50%;z-index: -1;}#sk-container-id-4 div.sk-parallel-item {display: flex;flex-direction: column;z-index: 1;position: relative;background-color: white;}#sk-container-id-4 div.sk-parallel-item:first-child::after {align-self: flex-end;width: 50%;}#sk-container-id-4 div.sk-parallel-item:last-child::after {align-self: flex-start;width: 50%;}#sk-container-id-4 div.sk-parallel-item:only-child::after {width: 0;}#sk-container-id-4 div.sk-dashed-wrapped {border: 1px dashed gray;margin: 0 0.4em 0.5em 0.4em;box-sizing: border-box;padding-bottom: 0.4em;background-color: white;}#sk-container-id-4 div.sk-label label {font-family: monospace;font-weight: bold;display: inline-block;line-height: 1.2em;}#sk-container-id-4 div.sk-label-container {text-align: center;}#sk-container-id-4 div.sk-container {/* jupyter's `normalize.less` sets `[hidden] { display: none; }` but bootstrap.min.css set `[hidden] { display: none !important; }` so we also need the `!important` here to be able to override the default hidden behavior on the sphinx rendered scikit-learn.org. See: https://github.com/scikit-learn/scikit-learn/issues/21755 */display: inline-block !important;position: relative;}#sk-container-id-4 div.sk-text-repr-fallback {display: none;}</style><div id=\"sk-container-id-4\" class=\"sk-top-container\"><div class=\"sk-text-repr-fallback\"><pre>SVC(C=1, kernel=&#x27;linear&#x27;, random_state=42)</pre><b>In a Jupyter environment, please rerun this cell to show the HTML representation or trust the notebook. <br />On GitHub, the HTML representation is unable to render, please try loading this page with nbviewer.org.</b></div><div class=\"sk-container\" hidden><div class=\"sk-item\"><div class=\"sk-estimator sk-toggleable\"><input class=\"sk-toggleable__control sk-hidden--visually\" id=\"sk-estimator-id-4\" type=\"checkbox\" checked><label for=\"sk-estimator-id-4\" class=\"sk-toggleable__label sk-toggleable__label-arrow\">SVC</label><div class=\"sk-toggleable__content\"><pre>SVC(C=1, kernel=&#x27;linear&#x27;, random_state=42)</pre></div></div></div></div></div>"
      ],
      "text/plain": [
       "SVC(C=1, kernel='linear', random_state=42)"
      ]
     },
     "execution_count": 48,
     "metadata": {},
     "output_type": "execute_result"
    }
   ],
   "source": [
    "# Train the model\n",
    "SVM_model = SVC(kernel='linear', C=1, random_state=42)\n",
    "SVM_model.fit(X_train, y_train)"
   ]
  },
  {
   "cell_type": "markdown",
   "metadata": {},
   "source": [
    "<style>\n",
    "    h3{\n",
    "        color: rgb(86, 180, 252);\n",
    "        margin: 0;\n",
    "    }\n",
    "</style>\n",
    "<h3>Test the model</h3>"
   ]
  },
  {
   "cell_type": "code",
   "execution_count": 49,
   "metadata": {},
   "outputs": [
    {
     "name": "stdout",
     "output_type": "stream",
     "text": [
      "Accuracy: 0.98\n",
      "Confusion matrix:\n",
      "                      color recognition  currency recognition  \\\n",
      "color recognition                    13                     0   \n",
      "currency recognition                  0                     7   \n",
      "depth estimation                      0                     0   \n",
      "ocr                                   0                     0   \n",
      "scene description                     0                     0   \n",
      "translation                           0                     0   \n",
      "\n",
      "                      depth estimation  ocr  scene description  translation  \n",
      "color recognition                    0    0                  0            0  \n",
      "currency recognition                 0    0                  0            0  \n",
      "depth estimation                    13    0                  0            0  \n",
      "ocr                                  0    4                  0            0  \n",
      "scene description                    0    0                 10            0  \n",
      "translation                          0    1                  0            2  \n",
      "Precision: [1.  1.  1.  0.8 1.  1. ]\n",
      "Recall: [1.         1.         1.         1.         1.         0.66666667]\n",
      "F1-score: [1.         1.         1.         0.88888889 1.         0.8       ]\n"
     ]
    }
   ],
   "source": [
    "# Test the model\n",
    "SVM_y_pred = SVM_model.predict(X_test)\n",
    "\n",
    "# Evaluate the accuracy of the classifier\n",
    "SVM_accuracy = accuracy_score(y_test, SVM_y_pred)\n",
    "print('Accuracy:', SVM_accuracy)\n",
    "\n",
    "# Print the confusion matrix of the classifier\n",
    "conf_matrix = confusion_matrix(y_test, SVM_y_pred)\n",
    "print('Confusion matrix:')\n",
    "index = original_labels\n",
    "print(pd.DataFrame(conf_matrix,index=index,columns=index))\n",
    "\n",
    "# Calculate precision, recall, and F1-score of the classifier\n",
    "precision, recall, f1, _ = precision_recall_fscore_support(y_test, SVM_y_pred)\n",
    "print('Precision:', precision)\n",
    "print('Recall:', recall)\n",
    "print('F1-score:', f1)"
   ]
  },
  {
   "cell_type": "markdown",
   "metadata": {},
   "source": [
    "<style>\n",
    "    h3{\n",
    "        color: rgb(255, 102, 0);\n",
    "        margin: 0;\n",
    "    }\n",
    "</style>\n",
    "<h3>Fifth model: Logistic Regression</h3>"
   ]
  },
  {
   "cell_type": "code",
   "execution_count": 50,
   "metadata": {},
   "outputs": [
    {
     "data": {
      "text/html": [
       "<style>#sk-container-id-5 {color: black;}#sk-container-id-5 pre{padding: 0;}#sk-container-id-5 div.sk-toggleable {background-color: white;}#sk-container-id-5 label.sk-toggleable__label {cursor: pointer;display: block;width: 100%;margin-bottom: 0;padding: 0.3em;box-sizing: border-box;text-align: center;}#sk-container-id-5 label.sk-toggleable__label-arrow:before {content: \"▸\";float: left;margin-right: 0.25em;color: #696969;}#sk-container-id-5 label.sk-toggleable__label-arrow:hover:before {color: black;}#sk-container-id-5 div.sk-estimator:hover label.sk-toggleable__label-arrow:before {color: black;}#sk-container-id-5 div.sk-toggleable__content {max-height: 0;max-width: 0;overflow: hidden;text-align: left;background-color: #f0f8ff;}#sk-container-id-5 div.sk-toggleable__content pre {margin: 0.2em;color: black;border-radius: 0.25em;background-color: #f0f8ff;}#sk-container-id-5 input.sk-toggleable__control:checked~div.sk-toggleable__content {max-height: 200px;max-width: 100%;overflow: auto;}#sk-container-id-5 input.sk-toggleable__control:checked~label.sk-toggleable__label-arrow:before {content: \"▾\";}#sk-container-id-5 div.sk-estimator input.sk-toggleable__control:checked~label.sk-toggleable__label {background-color: #d4ebff;}#sk-container-id-5 div.sk-label input.sk-toggleable__control:checked~label.sk-toggleable__label {background-color: #d4ebff;}#sk-container-id-5 input.sk-hidden--visually {border: 0;clip: rect(1px 1px 1px 1px);clip: rect(1px, 1px, 1px, 1px);height: 1px;margin: -1px;overflow: hidden;padding: 0;position: absolute;width: 1px;}#sk-container-id-5 div.sk-estimator {font-family: monospace;background-color: #f0f8ff;border: 1px dotted black;border-radius: 0.25em;box-sizing: border-box;margin-bottom: 0.5em;}#sk-container-id-5 div.sk-estimator:hover {background-color: #d4ebff;}#sk-container-id-5 div.sk-parallel-item::after {content: \"\";width: 100%;border-bottom: 1px solid gray;flex-grow: 1;}#sk-container-id-5 div.sk-label:hover label.sk-toggleable__label {background-color: #d4ebff;}#sk-container-id-5 div.sk-serial::before {content: \"\";position: absolute;border-left: 1px solid gray;box-sizing: border-box;top: 0;bottom: 0;left: 50%;z-index: 0;}#sk-container-id-5 div.sk-serial {display: flex;flex-direction: column;align-items: center;background-color: white;padding-right: 0.2em;padding-left: 0.2em;position: relative;}#sk-container-id-5 div.sk-item {position: relative;z-index: 1;}#sk-container-id-5 div.sk-parallel {display: flex;align-items: stretch;justify-content: center;background-color: white;position: relative;}#sk-container-id-5 div.sk-item::before, #sk-container-id-5 div.sk-parallel-item::before {content: \"\";position: absolute;border-left: 1px solid gray;box-sizing: border-box;top: 0;bottom: 0;left: 50%;z-index: -1;}#sk-container-id-5 div.sk-parallel-item {display: flex;flex-direction: column;z-index: 1;position: relative;background-color: white;}#sk-container-id-5 div.sk-parallel-item:first-child::after {align-self: flex-end;width: 50%;}#sk-container-id-5 div.sk-parallel-item:last-child::after {align-self: flex-start;width: 50%;}#sk-container-id-5 div.sk-parallel-item:only-child::after {width: 0;}#sk-container-id-5 div.sk-dashed-wrapped {border: 1px dashed gray;margin: 0 0.4em 0.5em 0.4em;box-sizing: border-box;padding-bottom: 0.4em;background-color: white;}#sk-container-id-5 div.sk-label label {font-family: monospace;font-weight: bold;display: inline-block;line-height: 1.2em;}#sk-container-id-5 div.sk-label-container {text-align: center;}#sk-container-id-5 div.sk-container {/* jupyter's `normalize.less` sets `[hidden] { display: none; }` but bootstrap.min.css set `[hidden] { display: none !important; }` so we also need the `!important` here to be able to override the default hidden behavior on the sphinx rendered scikit-learn.org. See: https://github.com/scikit-learn/scikit-learn/issues/21755 */display: inline-block !important;position: relative;}#sk-container-id-5 div.sk-text-repr-fallback {display: none;}</style><div id=\"sk-container-id-5\" class=\"sk-top-container\"><div class=\"sk-text-repr-fallback\"><pre>LogisticRegression(random_state=42)</pre><b>In a Jupyter environment, please rerun this cell to show the HTML representation or trust the notebook. <br />On GitHub, the HTML representation is unable to render, please try loading this page with nbviewer.org.</b></div><div class=\"sk-container\" hidden><div class=\"sk-item\"><div class=\"sk-estimator sk-toggleable\"><input class=\"sk-toggleable__control sk-hidden--visually\" id=\"sk-estimator-id-5\" type=\"checkbox\" checked><label for=\"sk-estimator-id-5\" class=\"sk-toggleable__label sk-toggleable__label-arrow\">LogisticRegression</label><div class=\"sk-toggleable__content\"><pre>LogisticRegression(random_state=42)</pre></div></div></div></div></div>"
      ],
      "text/plain": [
       "LogisticRegression(random_state=42)"
      ]
     },
     "execution_count": 50,
     "metadata": {},
     "output_type": "execute_result"
    }
   ],
   "source": [
    "# Train the model\n",
    "LR_model = LogisticRegression(random_state=42)\n",
    "LR_model.fit(X_train, y_train)"
   ]
  },
  {
   "cell_type": "markdown",
   "metadata": {},
   "source": [
    "<style>\n",
    "    h3{\n",
    "        color: rgb(86, 180, 252);\n",
    "        margin: 0;\n",
    "    }\n",
    "</style>\n",
    "<h3>Test the model</h3>"
   ]
  },
  {
   "cell_type": "code",
   "execution_count": 51,
   "metadata": {},
   "outputs": [
    {
     "name": "stdout",
     "output_type": "stream",
     "text": [
      "Accuracy: 0.98\n",
      "Confusion matrix:\n",
      "                      color recognition  currency recognition  \\\n",
      "color recognition                    13                     0   \n",
      "currency recognition                  0                     7   \n",
      "depth estimation                      0                     0   \n",
      "ocr                                   0                     0   \n",
      "scene description                     0                     0   \n",
      "translation                           0                     0   \n",
      "\n",
      "                      depth estimation  ocr  scene description  translation  \n",
      "color recognition                    0    0                  0            0  \n",
      "currency recognition                 0    0                  0            0  \n",
      "depth estimation                    13    0                  0            0  \n",
      "ocr                                  0    4                  0            0  \n",
      "scene description                    0    0                 10            0  \n",
      "translation                          0    1                  0            2  \n",
      "Precision: [1.  1.  1.  0.8 1.  1. ]\n",
      "Recall: [1.         1.         1.         1.         1.         0.66666667]\n",
      "F1-score: [1.         1.         1.         0.88888889 1.         0.8       ]\n"
     ]
    }
   ],
   "source": [
    "# Test the model\n",
    "LR_y_pred = LR_model.predict(X_test)\n",
    "\n",
    "# Evaluate the accuracy of the classifier\n",
    "LR_accuracy = accuracy_score(y_test, LR_y_pred)\n",
    "print('Accuracy:', LR_accuracy)\n",
    "\n",
    "# Print the confusion matrix of the classifier\n",
    "conf_matrix = confusion_matrix(y_test, LR_y_pred)\n",
    "print('Confusion matrix:')\n",
    "index = original_labels\n",
    "print(pd.DataFrame(conf_matrix,index=index,columns=index))\n",
    "\n",
    "# Calculate precision, recall, and F1-score of the classifier\n",
    "precision, recall, f1, _ = precision_recall_fscore_support(y_test, LR_y_pred)\n",
    "print('Precision:', precision)\n",
    "print('Recall:', recall)\n",
    "print('F1-score:', f1)"
   ]
  },
  {
   "cell_type": "markdown",
   "metadata": {},
   "source": [
    "<style>\n",
    "    h3{\n",
    "        color: rgb(0, 255, 0);\n",
    "        margin: 0;\n",
    "    }\n",
    "</style>\n",
    "<h3>Compare between models</h3>"
   ]
  },
  {
   "cell_type": "code",
   "execution_count": 52,
   "metadata": {},
   "outputs": [
    {
     "data": {
      "image/png": "[encoded data removed]",
      "text/plain": [
       "<Figure size 1200x600 with 1 Axes>"
      ]
     },
     "metadata": {},
     "output_type": "display_data"
    }
   ],
   "source": [
    "# Create a bar plot to compare the accuracy scores\n",
    "labels = [\n",
    "    'Naive Bayes', 'Random Forest', 'K-Nearest Neighbors',\n",
    "    'Support Vector Machine', 'Logistic Regression'\n",
    "]\n",
    "\n",
    "accuracy_scores = [0.91, 0.89, 0.93, 0.88, 0.78]\n",
    "# accuracy_scores = [NB_accuracy, RF_accuracy, KNN_accuracy, SVM_accuracy, LR_accuracy]\n",
    "\n",
    "fig, ax = plt.subplots(figsize=(12,6))\n",
    "ax.bar(labels, accuracy_scores)\n",
    "ax.set_ylim(0, 1)\n",
    "ax.set_ylabel('Accuracy')\n",
    "ax.set_title('Classifier Comparison')\n",
    "plt.show()"
   ]
  },
  {
   "cell_type": "markdown",
   "metadata": {},
   "source": [
    "save the best model"
   ]
  },
  {
   "cell_type": "code",
   "execution_count": null,
   "metadata": {},
   "outputs": [],
   "source": [
    "# Save the trained model\n",
    "final_model = NB_model\n",
    "joblib.dump(final_model, 'models/sentimental-analysis-model.joblib')"
   ]
  }
 ],
 "metadata": {
  "kernelspec": {
   "display_name": "Python 3 (ipykernel)",
   "language": "python",
   "name": "python3"
  },
  "language_info": {
   "codemirror_mode": {
    "name": "ipython",
    "version": 3
   },
   "file_extension": ".py",
   "mimetype": "text/x-python",
   "name": "python",
   "nbconvert_exporter": "python",
   "pygments_lexer": "ipython3",
   "version": "3.11.5"
  }
 },
 "nbformat": 4,
 "nbformat_minor": 2
}
